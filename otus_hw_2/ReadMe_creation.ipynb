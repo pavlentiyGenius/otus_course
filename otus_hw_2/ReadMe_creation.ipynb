{
 "cells": [
  {
   "attachments": {},
   "cell_type": "markdown",
   "id": "35b1711d-301b-43b2-b9a9-b94a8ca5532a",
   "metadata": {},
   "source": [
    "# Практическая работа #2\n",
    "\n",
    "## Цель:\n",
    "Начать работу с Yandex Cloud, поработать с сервисами Object Storage и Data Proc, создать свой Spark-кластер и скопировать в него данные, оценить затраты при проектировании облачной инфраструктуры.\\\n",
    "\n",
    "## Cоздание ВМ и Object Storage\n",
    "Проектируемая система должна содержать в себе вычислительную инфраструктуру, которая располагается на кластере Yandex Cloud. Изначально необходимо подобрать ВМ с учетом EDA. Машина должна содержать в себе достаточное количество CPU (например 4 ядра Indel Ice Lake), большой объем RAM (64гб и больше) и видеокарта (желательно Tasla V100/Tesla A100, но можно и более легкие конфигурации, доступные в YC).Размер основного хранилища не принципиален (основное хранилище - объектное, из него можно получить срезы данных), но для локального хранения отдельных датафреймов и витрин можно заказать на 1тб.\\ \n",
    "Замечу, что на промышленном стенде использование ресурсов откорректируется в зависимости от выбранного решения.\\\n",
    "![VM](img/VM.png)\n",
    "**!!С точки зрения экономии ресурсов и в рамках учебного процесса на данном этапе ВМ была заказана с другой конфигурацией!!** \n",
    "\n",
    "## Object Storage\n",
    "### Создание\n",
    "Создаем объектное хранилище, предварительно настроив доступ к Yandex Cloud через CLI (инструкция: https://cloud.yandex.ru/docs/cli/).\n",
    "![Object-Storage-Creation](img/Object-Storage-Creation.png)\n",
    "\n",
    "### Загрузка данных"
   ]
  },
  {
   "cell_type": "code",
   "execution_count": null,
   "id": "da1137cd-ca3e-40a6-8c64-da2b9cf49944",
   "metadata": {},
   "outputs": [],
   "source": []
  }
 ],
 "metadata": {
  "kernelspec": {
   "display_name": "Python 3 (ipykernel)",
   "language": "python",
   "name": "python3"
  },
  "language_info": {
   "codemirror_mode": {
    "name": "ipython",
    "version": 3
   },
   "file_extension": ".py",
   "mimetype": "text/x-python",
   "name": "python",
   "nbconvert_exporter": "python",
   "pygments_lexer": "ipython3",
   "version": "3.10.12"
  }
 },
 "nbformat": 4,
 "nbformat_minor": 5
}
